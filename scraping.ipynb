{
 "cells": [
  {
   "cell_type": "markdown",
   "metadata": {},
   "source": [
    "# Scraping Pizza Hut Website\n",
    "The website scraped is [pizza hut california](https://locations.pizzahut.com/ca) and library used is beautiful soup"
   ]
  },
  {
   "cell_type": "code",
   "execution_count": 1,
   "metadata": {},
   "outputs": [],
   "source": [
    "#importing various libraries\n",
    "import requests\n",
    "from bs4 import BeautifulSoup"
   ]
  },
  {
   "cell_type": "code",
   "execution_count": 2,
   "metadata": {},
   "outputs": [],
   "source": [
    "page = requests.get(\"https://locations.pizzahut.com/ca\") #getting html text from website using requests\n",
    "soup = BeautifulSoup(page.content, 'html.parser') #creating beautiful soup instance for text"
   ]
  },
  {
   "cell_type": "code",
   "execution_count": 3,
   "metadata": {},
   "outputs": [],
   "source": [
    "content= soup.find(class_=\"Directory-content\") # searching for tags having class as Directory Content"
   ]
  },
  {
   "cell_type": "code",
   "execution_count": 4,
   "metadata": {},
   "outputs": [],
   "source": [
    "#obtaining City names having outlets\n",
    "outlet=[out.get_text() for out in content.select(\" ul.Directory-listLinks li.Directory-listItem a.Directory-listLink \")]\n",
    "#obtaining outlet count for cities\n",
    "count=[co[\"data-count\"] for co in content.select(\"ul.Directory-listLinks li.Directory-listItem a.Directory-listLink\")]"
   ]
  },
  {
   "cell_type": "code",
   "execution_count": 5,
   "metadata": {},
   "outputs": [
    {
     "name": "stdout",
     "output_type": "stream",
     "text": [
      "['Alameda', 'Alhambra', 'Alpine', 'Altadena', 'Anaheim', 'Antioch', 'Apple Valley', 'Arcadia', 'Artesia', 'Arvin', 'Atwater', 'Azusa', 'Baker', 'Bakersfield', 'Baldwin Park', 'Banning', 'Barstow', 'Bell', 'Bell Gardens', 'Bellflower', 'Blackhawk', 'Brawley', 'Brea', 'Buena Park', 'Burbank', 'Calexico', 'Camarillo', 'Canoga Park', 'Canyon Country', 'Carson', 'Castaic', 'Cathedral City', 'Ceres', 'Cerritos', 'Chatsworth', 'Chino', 'Chino Hills', 'Chula Vista', 'Citrus Heights', 'Clovis', 'Coachella', 'Colma', 'Colton', 'Compton', 'Corona', 'Costa Mesa', 'Covina', 'Crescent City', 'Culver City', 'Cypress', 'Davis', 'Delano', 'Desert Hot Springs', 'Diamond Bar', 'Dinuba', 'Downey', 'Dublin', 'East Los Angeles', 'El Cajon', 'El Centro', 'El Dorado Hills', 'El Monte', 'Elk Grove', 'Encinitas', 'Escondido', 'Eureka', 'Fairfield', 'Fallbrook', 'Folsom', 'Fontana', 'Foothill Ranch', 'Fort Irwin', 'Fountain Valley', 'Fremont', 'Fresno', 'Fullerton', 'Garden Grove', 'Gardena', 'Gilroy', 'Glendale', 'Glendora', 'Granada Hills', 'Hacienda Heights', 'Hanford', 'Hawthorne', 'Hayward', 'Hemet', 'Hesperia', 'Highland', 'Hollywood', 'Huntington Beach', 'Huntington Park', 'Indio', 'Inglewood', 'Irvine', 'La Habra', 'La Mesa', 'La Mirada', 'La Puente', 'La Quinta', 'La Verne', 'Ladera Ranch', 'Laguna Hills', 'Laguna Niguel', 'Lake Elsinore', 'Lake Forest', 'Lakewood', 'Lancaster', 'Lathrop', 'Lemoore', 'Lincoln', 'Lodi', 'Lomita', 'Lompoc', 'Long Beach', 'Los Angeles', 'Los Banos', 'Lost Hills', 'Lynwood', 'Madera', 'Manteca', 'Marina', 'Marysville', 'Menifee', 'Menlo Park', 'Merced', 'Milpitas', 'Mira Loma', 'Mission Viejo', 'Modesto', 'Montebello', 'Monterey', 'Moreno Valley', 'Morgan Hill', 'Mountain View', 'Murrieta', 'Napa', 'National City', 'Newbury Park', 'Newhall', 'Newport Beach', 'Norco', 'North Hills', 'North Hollywood', 'Northridge', 'Norwalk', 'Novato', 'Oakland', 'Oceanside', 'Ontario', 'Orange', 'Oroville', 'Oxnard', 'Pacoima', 'Palm Desert', 'Palm Springs', 'Palmdale', 'Palo Alto', 'Panorama City', 'Paramount', 'Pasadena', 'Paso Robles', 'Perris', 'Petaluma', 'Pico Rivera', 'Pinole', 'Placentia', 'Pleasant Hill', 'Pomona', 'Port Hueneme', 'Porterville', 'Poway', 'Ramona', 'Rancho Cucamonga', 'Rancho Mirage', 'Redding', 'Redlands', 'Redwood City', 'Reseda', 'Rialto', 'Richmond', 'Ridgecrest', 'Riverside', 'Rocklin', 'Rolling Hills Estates', 'Rosamond', 'Rosemead', 'Roseville', 'Rowland Heights', 'Sacramento', 'Salinas', 'Salton City', 'San Bernardino', 'San Bruno', 'San Clemente', 'San Diego', 'San Dimas', 'San Fernando', 'San Gabriel', 'San Jacinto', 'San Jose', 'San Juan Capistrano', 'San Leandro', 'San Luis Obispo', 'San Marcos', 'San Mateo', 'San Pablo', 'San Pedro', 'San Rafael', 'San Ramon', 'Sand City', 'Santa Ana', 'Santa Clara', 'Santa Clarita', 'Santa Maria', 'Santa Monica', 'Santa Rosa', 'Santee', 'Seal Beach', 'Sherman Oaks', 'Signal Hill', 'Simi Valley', 'South Gate', 'South Lake Tahoe', 'South San Francisco', 'Spring Valley', 'Stanton', 'Stockton', 'Sunland', 'Sunnyvale', 'Sylmar', 'Taft', 'Temecula', 'Thousand Oaks', 'Tipton', 'Torrance', 'Tracy', 'Tulare', 'Turlock', 'Tustin', 'Twentynine Palms', 'Union City', 'Universal City', 'Upland', 'Vallejo', 'Van Nuys', 'Venice', 'Ventura', 'Victorville', 'Visalia', 'Vista', 'Walnut Creek', 'Wasco', 'West Covina', 'Westlake Village', 'Westminster', 'Whittier', 'Wilmington', 'Woodland', 'Yorba Linda', 'Yuba City', 'Yucaipa', 'Yucca Valley']\n",
      "['(1)', '(2)', '(1)', '(1)', '(10)', '(2)', '(4)', '(2)', '(1)', '(1)', '(2)', '(2)', '(2)', '(13)', '(1)', '(1)', '(1)', '(1)', '(1)', '(1)', '(1)', '(1)', '(1)', '(3)', '(3)', '(2)', '(1)', '(3)', '(1)', '(5)', '(1)', '(1)', '(1)', '(1)', '(1)', '(2)', '(1)', '(4)', '(2)', '(2)', '(1)', '(1)', '(1)', '(2)', '(4)', '(3)', '(2)', '(1)', '(1)', '(1)', '(1)', '(1)', '(1)', '(1)', '(1)', '(3)', '(1)', '(1)', '(3)', '(1)', '(1)', '(1)', '(3)', '(1)', '(3)', '(1)', '(2)', '(1)', '(1)', '(8)', '(1)', '(1)', '(1)', '(2)', '(10)', '(2)', '(4)', '(2)', '(1)', '(2)', '(1)', '(2)', '(1)', '(2)', '(4)', '(4)', '(3)', '(2)', '(1)', '(1)', '(5)', '(2)', '(1)', '(4)', '(1)', '(1)', '(2)', '(1)', '(2)', '(1)', '(2)', '(1)', '(1)', '(1)', '(3)', '(1)', '(2)', '(4)', '(1)', '(2)', '(2)', '(1)', '(1)', '(1)', '(12)', '(33)', '(2)', '(1)', '(2)', '(1)', '(1)', '(2)', '(1)', '(2)', '(1)', '(1)', '(2)', '(1)', '(2)', '(4)', '(1)', '(1)', '(5)', '(1)', '(1)', '(2)', '(1)', '(3)', '(1)', '(1)', '(1)', '(1)', '(1)', '(5)', '(2)', '(4)', '(1)', '(1)', '(4)', '(5)', '(4)', '(1)', '(3)', '(1)', '(1)', '(1)', '(6)', '(1)', '(1)', '(1)', '(2)', '(1)', '(1)', '(1)', '(1)', '(1)', '(1)', '(2)', '(3)', '(1)', '(3)', '(1)', '(1)', '(2)', '(1)', '(2)', '(3)', '(3)', '(2)', '(3)', '(2)', '(1)', '(10)', '(2)', '(1)', '(1)', '(2)', '(1)', '(1)', '(10)', '(3)', '(1)', '(5)', '(2)', '(1)', '(18)', '(1)', '(1)', '(1)', '(1)', '(15)', '(1)', '(2)', '(1)', '(2)', '(2)', '(1)', '(1)', '(1)', '(1)', '(1)', '(11)', '(1)', '(2)', '(1)', '(1)', '(2)', '(1)', '(1)', '(1)', '(1)', '(3)', '(2)', '(1)', '(1)', '(2)', '(1)', '(3)', '(1)', '(1)', '(1)', '(1)', '(3)', '(2)', '(1)', '(4)', '(3)', '(2)', '(1)', '(2)', '(1)', '(1)', '(1)', '(2)', '(2)', '(4)', '(1)', '(2)', '(3)', '(3)', '(3)', '(1)', '(1)', '(3)', '(1)', '(2)', '(3)', '(1)', '(1)', '(1)', '(2)', '(1)', '(1)']\n"
     ]
    }
   ],
   "source": [
    "print(outlet)\n",
    "print(count)\n",
    "#a.Directory-listLink li.Directory-listItem "
   ]
  },
  {
   "cell_type": "code",
   "execution_count": 6,
   "metadata": {},
   "outputs": [
    {
     "data": {
      "text/html": [
       "<div>\n",
       "<style scoped>\n",
       "    .dataframe tbody tr th:only-of-type {\n",
       "        vertical-align: middle;\n",
       "    }\n",
       "\n",
       "    .dataframe tbody tr th {\n",
       "        vertical-align: top;\n",
       "    }\n",
       "\n",
       "    .dataframe thead th {\n",
       "        text-align: right;\n",
       "    }\n",
       "</style>\n",
       "<table border=\"1\" class=\"dataframe\">\n",
       "  <thead>\n",
       "    <tr style=\"text-align: right;\">\n",
       "      <th></th>\n",
       "      <th>City_Name</th>\n",
       "      <th>Outlet_Count</th>\n",
       "    </tr>\n",
       "  </thead>\n",
       "  <tbody>\n",
       "    <tr>\n",
       "      <th>0</th>\n",
       "      <td>Alameda</td>\n",
       "      <td>(1)</td>\n",
       "    </tr>\n",
       "    <tr>\n",
       "      <th>1</th>\n",
       "      <td>Alhambra</td>\n",
       "      <td>(2)</td>\n",
       "    </tr>\n",
       "    <tr>\n",
       "      <th>2</th>\n",
       "      <td>Alpine</td>\n",
       "      <td>(1)</td>\n",
       "    </tr>\n",
       "    <tr>\n",
       "      <th>3</th>\n",
       "      <td>Altadena</td>\n",
       "      <td>(1)</td>\n",
       "    </tr>\n",
       "    <tr>\n",
       "      <th>4</th>\n",
       "      <td>Anaheim</td>\n",
       "      <td>(10)</td>\n",
       "    </tr>\n",
       "    <tr>\n",
       "      <th>...</th>\n",
       "      <td>...</td>\n",
       "      <td>...</td>\n",
       "    </tr>\n",
       "    <tr>\n",
       "      <th>258</th>\n",
       "      <td>Woodland</td>\n",
       "      <td>(1)</td>\n",
       "    </tr>\n",
       "    <tr>\n",
       "      <th>259</th>\n",
       "      <td>Yorba Linda</td>\n",
       "      <td>(1)</td>\n",
       "    </tr>\n",
       "    <tr>\n",
       "      <th>260</th>\n",
       "      <td>Yuba City</td>\n",
       "      <td>(2)</td>\n",
       "    </tr>\n",
       "    <tr>\n",
       "      <th>261</th>\n",
       "      <td>Yucaipa</td>\n",
       "      <td>(1)</td>\n",
       "    </tr>\n",
       "    <tr>\n",
       "      <th>262</th>\n",
       "      <td>Yucca Valley</td>\n",
       "      <td>(1)</td>\n",
       "    </tr>\n",
       "  </tbody>\n",
       "</table>\n",
       "<p>263 rows × 2 columns</p>\n",
       "</div>"
      ],
      "text/plain": [
       "        City_Name Outlet_Count\n",
       "0         Alameda          (1)\n",
       "1        Alhambra          (2)\n",
       "2          Alpine          (1)\n",
       "3        Altadena          (1)\n",
       "4         Anaheim         (10)\n",
       "..            ...          ...\n",
       "258      Woodland          (1)\n",
       "259   Yorba Linda          (1)\n",
       "260     Yuba City          (2)\n",
       "261       Yucaipa          (1)\n",
       "262  Yucca Valley          (1)\n",
       "\n",
       "[263 rows x 2 columns]"
      ]
     },
     "execution_count": 6,
     "metadata": {},
     "output_type": "execute_result"
    }
   ],
   "source": [
    "#converting to dataframe\n",
    "import pandas as pd\n",
    "Pizza_Hut = pd.DataFrame({\n",
    "    \"City_Name\": outlet,\n",
    "    \"Outlet_Count\": count,\n",
    "   })\n",
    "Pizza_Hut"
   ]
  },
  {
   "cell_type": "code",
   "execution_count": 7,
   "metadata": {},
   "outputs": [],
   "source": [
    "#preprocessing\n",
    "Pizza_Hut['Outlet_Count']=Pizza_Hut['Outlet_Count'].str.replace(\")\",\"\")\n",
    "Pizza_Hut['Outlet_Count']=Pizza_Hut['Outlet_Count'].str.replace(\"(\",\"\")"
   ]
  },
  {
   "cell_type": "code",
   "execution_count": 8,
   "metadata": {},
   "outputs": [
    {
     "data": {
      "text/plain": [
       "City_Name       object\n",
       "Outlet_Count    object\n",
       "dtype: object"
      ]
     },
     "execution_count": 8,
     "metadata": {},
     "output_type": "execute_result"
    }
   ],
   "source": [
    "Pizza_Hut.dtypes\n"
   ]
  },
  {
   "cell_type": "code",
   "execution_count": 9,
   "metadata": {},
   "outputs": [],
   "source": [
    "Pizza_Hut['Outlet_Count'] = Pizza_Hut['Outlet_Count'].astype(int)\n",
    "Pizza_Hut['City_Name'] = Pizza_Hut['City_Name'].astype(str)\n"
   ]
  },
  {
   "cell_type": "code",
   "execution_count": 10,
   "metadata": {},
   "outputs": [
    {
     "data": {
      "text/plain": [
       "City_Name       object\n",
       "Outlet_Count     int32\n",
       "dtype: object"
      ]
     },
     "execution_count": 10,
     "metadata": {},
     "output_type": "execute_result"
    }
   ],
   "source": [
    "Pizza_Hut.dtypes"
   ]
  },
  {
   "cell_type": "code",
   "execution_count": 11,
   "metadata": {},
   "outputs": [
    {
     "data": {
      "text/html": [
       "<div>\n",
       "<style scoped>\n",
       "    .dataframe tbody tr th:only-of-type {\n",
       "        vertical-align: middle;\n",
       "    }\n",
       "\n",
       "    .dataframe tbody tr th {\n",
       "        vertical-align: top;\n",
       "    }\n",
       "\n",
       "    .dataframe thead th {\n",
       "        text-align: right;\n",
       "    }\n",
       "</style>\n",
       "<table border=\"1\" class=\"dataframe\">\n",
       "  <thead>\n",
       "    <tr style=\"text-align: right;\">\n",
       "      <th></th>\n",
       "      <th>Outlet_Count</th>\n",
       "    </tr>\n",
       "  </thead>\n",
       "  <tbody>\n",
       "    <tr>\n",
       "      <th>count</th>\n",
       "      <td>263.000000</td>\n",
       "    </tr>\n",
       "    <tr>\n",
       "      <th>mean</th>\n",
       "      <td>2.228137</td>\n",
       "    </tr>\n",
       "    <tr>\n",
       "      <th>std</th>\n",
       "      <td>2.939798</td>\n",
       "    </tr>\n",
       "    <tr>\n",
       "      <th>min</th>\n",
       "      <td>1.000000</td>\n",
       "    </tr>\n",
       "    <tr>\n",
       "      <th>25%</th>\n",
       "      <td>1.000000</td>\n",
       "    </tr>\n",
       "    <tr>\n",
       "      <th>50%</th>\n",
       "      <td>1.000000</td>\n",
       "    </tr>\n",
       "    <tr>\n",
       "      <th>75%</th>\n",
       "      <td>2.000000</td>\n",
       "    </tr>\n",
       "    <tr>\n",
       "      <th>max</th>\n",
       "      <td>33.000000</td>\n",
       "    </tr>\n",
       "  </tbody>\n",
       "</table>\n",
       "</div>"
      ],
      "text/plain": [
       "       Outlet_Count\n",
       "count    263.000000\n",
       "mean       2.228137\n",
       "std        2.939798\n",
       "min        1.000000\n",
       "25%        1.000000\n",
       "50%        1.000000\n",
       "75%        2.000000\n",
       "max       33.000000"
      ]
     },
     "execution_count": 11,
     "metadata": {},
     "output_type": "execute_result"
    }
   ],
   "source": [
    "Pizza_Hut.describe()"
   ]
  },
  {
   "cell_type": "code",
   "execution_count": 12,
   "metadata": {},
   "outputs": [
    {
     "data": {
      "text/html": [
       "<div>\n",
       "<style scoped>\n",
       "    .dataframe tbody tr th:only-of-type {\n",
       "        vertical-align: middle;\n",
       "    }\n",
       "\n",
       "    .dataframe tbody tr th {\n",
       "        vertical-align: top;\n",
       "    }\n",
       "\n",
       "    .dataframe thead th {\n",
       "        text-align: right;\n",
       "    }\n",
       "</style>\n",
       "<table border=\"1\" class=\"dataframe\">\n",
       "  <thead>\n",
       "    <tr style=\"text-align: right;\">\n",
       "      <th></th>\n",
       "      <th>City_Name</th>\n",
       "      <th>Outlet_Count</th>\n",
       "    </tr>\n",
       "  </thead>\n",
       "  <tbody>\n",
       "    <tr>\n",
       "      <th>0</th>\n",
       "      <td>Alameda</td>\n",
       "      <td>1</td>\n",
       "    </tr>\n",
       "    <tr>\n",
       "      <th>1</th>\n",
       "      <td>Alhambra</td>\n",
       "      <td>2</td>\n",
       "    </tr>\n",
       "    <tr>\n",
       "      <th>2</th>\n",
       "      <td>Alpine</td>\n",
       "      <td>1</td>\n",
       "    </tr>\n",
       "    <tr>\n",
       "      <th>3</th>\n",
       "      <td>Altadena</td>\n",
       "      <td>1</td>\n",
       "    </tr>\n",
       "    <tr>\n",
       "      <th>4</th>\n",
       "      <td>Anaheim</td>\n",
       "      <td>10</td>\n",
       "    </tr>\n",
       "  </tbody>\n",
       "</table>\n",
       "</div>"
      ],
      "text/plain": [
       "  City_Name  Outlet_Count\n",
       "0   Alameda             1\n",
       "1  Alhambra             2\n",
       "2    Alpine             1\n",
       "3  Altadena             1\n",
       "4   Anaheim            10"
      ]
     },
     "execution_count": 12,
     "metadata": {},
     "output_type": "execute_result"
    }
   ],
   "source": [
    "Pizza_Hut.head()"
   ]
  },
  {
   "cell_type": "code",
   "execution_count": 13,
   "metadata": {},
   "outputs": [],
   "source": [
    "#converting to csv\n",
    "Pizza_Hut.to_csv('Pizza_Hut_dataset.csv',index=False)"
   ]
  },
  {
   "cell_type": "code",
   "execution_count": null,
   "metadata": {},
   "outputs": [],
   "source": []
  }
 ],
 "metadata": {
  "kernelspec": {
   "display_name": "Python 3",
   "language": "python",
   "name": "python3"
  },
  "language_info": {
   "codemirror_mode": {
    "name": "ipython",
    "version": 3
   },
   "file_extension": ".py",
   "mimetype": "text/x-python",
   "name": "python",
   "nbconvert_exporter": "python",
   "pygments_lexer": "ipython3",
   "version": "3.6.10"
  }
 },
 "nbformat": 4,
 "nbformat_minor": 4
}
